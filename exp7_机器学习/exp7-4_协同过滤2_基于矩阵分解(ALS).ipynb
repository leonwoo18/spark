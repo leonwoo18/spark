{
 "cells": [
  {
   "cell_type": "code",
   "execution_count": 7,
   "metadata": {},
   "outputs": [
    {
     "name": "stdout",
     "output_type": "stream",
     "text": [
      "# 用户特征向量U\n"
     ]
    },
    {
     "data": {
      "text/plain": [
       "[Row(id=0, features=[0.5617156624794006, -0.44229641556739807, 0.34542036056518555, 0.905699610710144, 0.4823412597179413]),\n",
       " Row(id=1, features=[0.6315169334411621, -0.974982500076294, 0.5302770733833313, -0.00427454337477684, 0.7057545781135559]),\n",
       " Row(id=2, features=[-0.01934131234884262, -0.7173973917961121, 0.29496514797210693, -1.16715407371521, 0.22981099784374237])]"
      ]
     },
     "execution_count": 7,
     "metadata": {},
     "output_type": "execute_result"
    },
    {
     "name": "stdout",
     "output_type": "stream",
     "text": [
      "# 物品特征向量V\n"
     ]
    },
    {
     "data": {
      "text/plain": [
       "[Row(id=0, features=[1.2744041681289673, -0.9583112597465515, 0.7699078917503357, 2.1497602462768555, 1.0788860321044922]),\n",
       " Row(id=1, features=[0.9104045629501343, -1.2607403993606567, 0.7037384510040283, 0.21806049346923828, 0.9687231183052063]),\n",
       " Row(id=2, features=[0.5538492202758789, -2.3204479217529297, 1.0750685930252075, -2.2940917015075684, 1.1120164394378662]),\n",
       " Row(id=3, features=[1.3332509994506836, -1.6890230178833008, 0.967412531375885, 0.5762561559677124, 1.3656255006790161])]"
      ]
     },
     "execution_count": 7,
     "metadata": {},
     "output_type": "execute_result"
    },
    {
     "name": "stdout",
     "output_type": "stream",
     "text": [
      "\n",
      "\n",
      "# 对于未知的用户物品推荐度预测结果\n",
      "Row(user=0, item=2, prediction=0.16739553213119507)\n",
      "Row(user=1, item=0, prediction=2.899648666381836)\n",
      "Row(user=2, item=3, prediction=1.112522840499878)\n",
      "Row(user=2, item=0, prediction=-1.371224284172058)\n",
      "\n",
      "U0用户对所有物品的评分\n",
      "[Row(item=[0, 3, 1, 2], rating=[3.8730804920196533, 3.0107336044311523, 1.9768474102020264, 0.16739553213119507])]\n",
      "\n",
      "所有用户对物品V2的评分\n",
      "[Row(user=[2, 1, 0], rating=[4.904191017150879, 3.9768621921539307, 0.16739553213119507])]\n",
      "\n",
      "根据mode1分解的两个矩阵，对用户U2子集中3个物品，进行评分预测，然后与源数据对比\n",
      "Row(item=[2, 3, 1], rating=[4.904191017150879, 1.112522840499878, 1.0625348091125488])\n",
      "\n",
      "根据mode1分解的两个矩阵，对物品V0子集中3个用户，进行评分预测，然后与源数据对比\n",
      "Row(user=[0, 1, 2], rating=[3.8730804920196533, 2.899648666381836, -1.371224284172058])\n"
     ]
    }
   ],
   "source": [
    "#设置这个选项打印所有的值,如果不使用Jupytor Notebook，请注释下面2行\n",
    "from IPython.core.interactiveshell import InteractiveShell\n",
    "InteractiveShell.ast_node_interactivity = \"all\"\n",
    " \n",
    "from pyspark.ml.recommendation import ALS\n",
    "\n",
    "\n",
    "df = spark.createDataFrame(\n",
    "    [(0, 0, 4.0), (0, 1, 2.0), (1, 1, 3.0), (1, 2, 4.0), \n",
    "     (2, 1, 1.0), (2, 2, 5.0), (0, 3, 3.0), (1, 3, 4.0)],\n",
    "    [\"user\", \"item\", \"rating\"])\n",
    "# rank 特征数量k=5\n",
    "als = ALS(rank=5, maxIter=5, seed=0)\n",
    "model = als.fit(df)\n",
    " \n",
    "print('# 用户特征向量U')\n",
    "model.userFactors.orderBy(\"id\").collect()\n",
    " \n",
    "print('# 物品特征向量V')\n",
    "model.itemFactors.orderBy(\"id\").collect()\n",
    "print(\"\\n\") \n",
    " \n",
    "test = spark.createDataFrame([(0, 2), (1, 0), (2, 0),(2, 3)], [\"user\", \"item\"])\n",
    "\n",
    "\n",
    "predictions = sorted(model.transform(test).collect(), key=lambda r: r[0])\n",
    "print('# 对于未知的用户物品推荐度预测结果')\n",
    "for i in predictions:\n",
    "    print(i)\n",
    "\n",
    "print(\"\\nU0用户对所有物品的评分\")\n",
    "user_recs = model.recommendForAllUsers(4) \n",
    "print(user_recs.where(user_recs.user == 0).select(\"recommendations.item\", \"recommendations.rating\").collect())\n",
    " \n",
    "print(\"\\n所有用户对物品V2的评分\" ) \n",
    "item_recs = model.recommendForAllItems(3)\n",
    "print(item_recs.where(item_recs.item == 2).select(\"recommendations.user\", \"recommendations.rating\").collect())\n",
    " \n",
    "print(\"\\n根据mode1分解的两个矩阵，对用户U2子集中3个物品，进行评分预测，然后与源数据对比\")  \n",
    "user_subset = df.where(df.user == 2)\n",
    "user_subset_recs = model.recommendForUserSubset(user_subset, 3)\n",
    "print(user_subset_recs.select(\"recommendations.item\", \"recommendations.rating\").first())\n",
    "\n",
    "print(\"\\n根据mode1分解的两个矩阵，对物品V0子集中3个用户，进行评分预测，然后与源数据对比\") \n",
    "item_subset = df.where(df.item == 0)\n",
    "item_subset_recs = model.recommendForItemSubset(item_subset, 3)\n",
    "print(item_subset_recs.select(\"recommendations.user\", \"recommendations.rating\").first())\n",
    " \n"
   ]
  }
 ],
 "metadata": {
  "kernelspec": {
   "display_name": "Python 3",
   "language": "python",
   "name": "python3"
  },
  "language_info": {
   "codemirror_mode": {
    "name": "ipython",
    "version": 3
   },
   "file_extension": ".py",
   "mimetype": "text/x-python",
   "name": "python",
   "nbconvert_exporter": "python",
   "pygments_lexer": "ipython3",
   "version": "3.5.2"
  }
 },
 "nbformat": 4,
 "nbformat_minor": 4
}
